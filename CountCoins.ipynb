{
  "nbformat": 4,
  "nbformat_minor": 0,
  "metadata": {
    "colab": {
      "provenance": [],
      "authorship_tag": "ABX9TyPyefvS4T2H9xIUqRf/rEjp",
      "include_colab_link": true
    },
    "kernelspec": {
      "name": "python3",
      "display_name": "Python 3"
    },
    "language_info": {
      "name": "python"
    }
  },
  "cells": [
    {
      "cell_type": "markdown",
      "metadata": {
        "id": "view-in-github",
        "colab_type": "text"
      },
      "source": [
        "<a href=\"https://colab.research.google.com/github/SyedShahNawaz/Project-Calculator/blob/main/CountCoins.ipynb\" target=\"_parent\"><img src=\"https://colab.research.google.com/assets/colab-badge.svg\" alt=\"Open In Colab\"/></a>"
      ]
    },
    {
      "cell_type": "code",
      "execution_count": 6,
      "metadata": {
        "colab": {
          "base_uri": "https://localhost:8080/"
        },
        "id": "MXcxZI1UT_aa",
        "outputId": "0d9177de-98f8-401f-941e-870c9cb8c4fa"
      },
      "outputs": [
        {
          "output_type": "stream",
          "name": "stdout",
          "text": [
            "coins in the image :  5\n"
          ]
        }
      ],
      "source": [
        "# Import libraries\n",
        "import cv2\n",
        "import numpy as np\n",
        "import matplotlib.pyplot as plt\n",
        "\n",
        "#We will read the image by using\n",
        "image = cv2.imread('/bitss.jpg')\n",
        "#convert this image into grayscale image\n",
        "gray = cv2.cvtColor(image, cv2.COLOR_BGR2GRAY)\n",
        "#For counting, we have to detect the edges but before detecting the edges we have to make the image blur to avoid the noises\n",
        "blur = cv2.GaussianBlur(gray, (11, 11), 0)\n",
        "#Now we will detect edges using a canny algorithm, 2nd & 3rd parameters in cv2.canny() function are threshold values. a value between 30 & 150 are consider as an edge for this image\n",
        "canny = cv2.Canny(blur, 30, 150, 3)\n",
        "#We can see that edges are not connected. We need to connect the edges, have to make more thiker & visible.\n",
        "dilated = cv2.dilate(canny, (1, 1), iterations=0)\n",
        "#Now we have to calculate the contour in the image & convert the image into RGB from BGR & then draw the contours.\n",
        "(cnt, hierarchy) = cv2.findContours(\n",
        "\tdilated.copy(), cv2.RETR_EXTERNAL, cv2.CHAIN_APPROX_NONE)\n",
        "rgb = cv2.cvtColor(image, cv2.COLOR_BGR2RGB)\n",
        "cv2.drawContours(rgb, cnt, -1, (0, 255, 0), 2)\n",
        "\n",
        "#Printing the result\n",
        "print(\"coins in the image : \", len(cnt))\n"
      ]
    }
  ]
}